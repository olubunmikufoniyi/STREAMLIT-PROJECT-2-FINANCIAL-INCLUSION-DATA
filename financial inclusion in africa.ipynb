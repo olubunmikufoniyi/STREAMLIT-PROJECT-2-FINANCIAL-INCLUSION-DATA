{
 "cells": [
  {
   "cell_type": "code",
   "execution_count": 1,
   "metadata": {},
   "outputs": [],
   "source": [
    "import pandas as pd\n",
    "\n",
    "url = 'https://drive.google.com/file/d/1FrFTfUln67599LTm2uMTSqM8DjqpAaKL/view'\n",
    "path = 'https://drive.google.com/uc?export=download&id='+url.split('/')[-2]\n",
    "data = pd.read_csv(path)\n",
    "import pandas as pd\n",
    "\n",
    "url = 'https://drive.google.com/file/d/1FrFTfUln67599LTm2uMTSqM8DjqpAaKL/view'\n",
    "path = 'https://drive.google.com/uc?export=download&id='+url.split('/')[-2]\n",
    "data = pd.read_csv(path)"
   ]
  },
  {
   "cell_type": "code",
   "execution_count": 2,
   "metadata": {},
   "outputs": [],
   "source": [
    "import pandas as pd\n",
    "import numpy as np\n",
    "import matplotlib.pyplot as plt\n",
    "from sklearn.model_selection import train_test_split\n",
    "from sklearn.preprocessing import LabelEncoder, OneHotEncoder\n",
    "from sklearn.ensemble import RandomForestClassifier\n",
    "import seaborn as sns"
   ]
  },
  {
   "cell_type": "code",
   "execution_count": 3,
   "metadata": {},
   "outputs": [
    {
     "name": "stdout",
     "output_type": "stream",
     "text": [
      "<class 'pandas.core.frame.DataFrame'>\n",
      "RangeIndex: 23524 entries, 0 to 23523\n",
      "Data columns (total 13 columns):\n",
      " #   Column                  Non-Null Count  Dtype \n",
      "---  ------                  --------------  ----- \n",
      " 0   country                 23524 non-null  object\n",
      " 1   year                    23524 non-null  int64 \n",
      " 2   uniqueid                23524 non-null  object\n",
      " 3   bank_account            23524 non-null  object\n",
      " 4   location_type           23524 non-null  object\n",
      " 5   cellphone_access        23524 non-null  object\n",
      " 6   household_size          23524 non-null  int64 \n",
      " 7   age_of_respondent       23524 non-null  int64 \n",
      " 8   gender_of_respondent    23524 non-null  object\n",
      " 9   relationship_with_head  23524 non-null  object\n",
      " 10  marital_status          23524 non-null  object\n",
      " 11  education_level         23524 non-null  object\n",
      " 12  job_type                23524 non-null  object\n",
      "dtypes: int64(3), object(10)\n",
      "memory usage: 2.3+ MB\n"
     ]
    }
   ],
   "source": [
    "data.info()"
   ]
  },
  {
   "cell_type": "code",
   "execution_count": 4,
   "metadata": {},
   "outputs": [
    {
     "data": {
      "text/html": [
       "<div>\n",
       "<style scoped>\n",
       "    .dataframe tbody tr th:only-of-type {\n",
       "        vertical-align: middle;\n",
       "    }\n",
       "\n",
       "    .dataframe tbody tr th {\n",
       "        vertical-align: top;\n",
       "    }\n",
       "\n",
       "    .dataframe thead th {\n",
       "        text-align: right;\n",
       "    }\n",
       "</style>\n",
       "<table border=\"1\" class=\"dataframe\">\n",
       "  <thead>\n",
       "    <tr style=\"text-align: right;\">\n",
       "      <th></th>\n",
       "      <th>country</th>\n",
       "      <th>year</th>\n",
       "      <th>uniqueid</th>\n",
       "      <th>bank_account</th>\n",
       "      <th>location_type</th>\n",
       "      <th>cellphone_access</th>\n",
       "      <th>household_size</th>\n",
       "      <th>age_of_respondent</th>\n",
       "      <th>gender_of_respondent</th>\n",
       "      <th>relationship_with_head</th>\n",
       "      <th>marital_status</th>\n",
       "      <th>education_level</th>\n",
       "      <th>job_type</th>\n",
       "    </tr>\n",
       "  </thead>\n",
       "  <tbody>\n",
       "    <tr>\n",
       "      <th>0</th>\n",
       "      <td>Kenya</td>\n",
       "      <td>2018</td>\n",
       "      <td>uniqueid_1</td>\n",
       "      <td>Yes</td>\n",
       "      <td>Rural</td>\n",
       "      <td>Yes</td>\n",
       "      <td>3</td>\n",
       "      <td>24</td>\n",
       "      <td>Female</td>\n",
       "      <td>Spouse</td>\n",
       "      <td>Married/Living together</td>\n",
       "      <td>Secondary education</td>\n",
       "      <td>Self employed</td>\n",
       "    </tr>\n",
       "    <tr>\n",
       "      <th>1</th>\n",
       "      <td>Kenya</td>\n",
       "      <td>2018</td>\n",
       "      <td>uniqueid_2</td>\n",
       "      <td>No</td>\n",
       "      <td>Rural</td>\n",
       "      <td>No</td>\n",
       "      <td>5</td>\n",
       "      <td>70</td>\n",
       "      <td>Female</td>\n",
       "      <td>Head of Household</td>\n",
       "      <td>Widowed</td>\n",
       "      <td>No formal education</td>\n",
       "      <td>Government Dependent</td>\n",
       "    </tr>\n",
       "    <tr>\n",
       "      <th>2</th>\n",
       "      <td>Kenya</td>\n",
       "      <td>2018</td>\n",
       "      <td>uniqueid_3</td>\n",
       "      <td>Yes</td>\n",
       "      <td>Urban</td>\n",
       "      <td>Yes</td>\n",
       "      <td>5</td>\n",
       "      <td>26</td>\n",
       "      <td>Male</td>\n",
       "      <td>Other relative</td>\n",
       "      <td>Single/Never Married</td>\n",
       "      <td>Vocational/Specialised training</td>\n",
       "      <td>Self employed</td>\n",
       "    </tr>\n",
       "    <tr>\n",
       "      <th>3</th>\n",
       "      <td>Kenya</td>\n",
       "      <td>2018</td>\n",
       "      <td>uniqueid_4</td>\n",
       "      <td>No</td>\n",
       "      <td>Rural</td>\n",
       "      <td>Yes</td>\n",
       "      <td>5</td>\n",
       "      <td>34</td>\n",
       "      <td>Female</td>\n",
       "      <td>Head of Household</td>\n",
       "      <td>Married/Living together</td>\n",
       "      <td>Primary education</td>\n",
       "      <td>Formally employed Private</td>\n",
       "    </tr>\n",
       "    <tr>\n",
       "      <th>4</th>\n",
       "      <td>Kenya</td>\n",
       "      <td>2018</td>\n",
       "      <td>uniqueid_5</td>\n",
       "      <td>No</td>\n",
       "      <td>Urban</td>\n",
       "      <td>No</td>\n",
       "      <td>8</td>\n",
       "      <td>26</td>\n",
       "      <td>Male</td>\n",
       "      <td>Child</td>\n",
       "      <td>Single/Never Married</td>\n",
       "      <td>Primary education</td>\n",
       "      <td>Informally employed</td>\n",
       "    </tr>\n",
       "  </tbody>\n",
       "</table>\n",
       "</div>"
      ],
      "text/plain": [
       "  country  year    uniqueid bank_account location_type cellphone_access  \\\n",
       "0   Kenya  2018  uniqueid_1          Yes         Rural              Yes   \n",
       "1   Kenya  2018  uniqueid_2           No         Rural               No   \n",
       "2   Kenya  2018  uniqueid_3          Yes         Urban              Yes   \n",
       "3   Kenya  2018  uniqueid_4           No         Rural              Yes   \n",
       "4   Kenya  2018  uniqueid_5           No         Urban               No   \n",
       "\n",
       "   household_size  age_of_respondent gender_of_respondent  \\\n",
       "0               3                 24               Female   \n",
       "1               5                 70               Female   \n",
       "2               5                 26                 Male   \n",
       "3               5                 34               Female   \n",
       "4               8                 26                 Male   \n",
       "\n",
       "  relationship_with_head           marital_status  \\\n",
       "0                 Spouse  Married/Living together   \n",
       "1      Head of Household                  Widowed   \n",
       "2         Other relative     Single/Never Married   \n",
       "3      Head of Household  Married/Living together   \n",
       "4                  Child     Single/Never Married   \n",
       "\n",
       "                   education_level                   job_type  \n",
       "0              Secondary education              Self employed  \n",
       "1              No formal education       Government Dependent  \n",
       "2  Vocational/Specialised training              Self employed  \n",
       "3                Primary education  Formally employed Private  \n",
       "4                Primary education        Informally employed  "
      ]
     },
     "execution_count": 4,
     "metadata": {},
     "output_type": "execute_result"
    }
   ],
   "source": [
    "data.head()"
   ]
  },
  {
   "cell_type": "code",
   "execution_count": 5,
   "metadata": {},
   "outputs": [
    {
     "name": "stdout",
     "output_type": "stream",
     "text": [
      "Requirement already satisfied: ydata_profiling in c:\\users\\bunmi\\documents\\financial inclusion\\constellation\\lib\\site-packages (4.8.3)\n",
      "Requirement already satisfied: scipy<1.14,>=1.4.1 in c:\\users\\bunmi\\documents\\financial inclusion\\constellation\\lib\\site-packages (from ydata_profiling) (1.13.0)\n",
      "Requirement already satisfied: pandas!=1.4.0,<3,>1.1 in c:\\users\\bunmi\\documents\\financial inclusion\\constellation\\lib\\site-packages (from ydata_profiling) (2.2.2)\n",
      "Requirement already satisfied: matplotlib<3.9,>=3.2 in c:\\users\\bunmi\\documents\\financial inclusion\\constellation\\lib\\site-packages (from ydata_profiling) (3.8.4)\n",
      "Requirement already satisfied: pydantic>=2 in c:\\users\\bunmi\\documents\\financial inclusion\\constellation\\lib\\site-packages (from ydata_profiling) (2.7.1)\n",
      "Requirement already satisfied: PyYAML<6.1,>=5.0.0 in c:\\users\\bunmi\\documents\\financial inclusion\\constellation\\lib\\site-packages (from ydata_profiling) (6.0.1)\n",
      "Requirement already satisfied: jinja2<3.2,>=2.11.1 in c:\\users\\bunmi\\documents\\financial inclusion\\constellation\\lib\\site-packages (from ydata_profiling) (3.1.3)\n",
      "Requirement already satisfied: visions<0.7.7,>=0.7.5 in c:\\users\\bunmi\\documents\\financial inclusion\\constellation\\lib\\site-packages (from visions[type_image_path]<0.7.7,>=0.7.5->ydata_profiling) (0.7.6)\n",
      "Requirement already satisfied: numpy<2,>=1.16.0 in c:\\users\\bunmi\\documents\\financial inclusion\\constellation\\lib\\site-packages (from ydata_profiling) (1.26.4)\n",
      "Requirement already satisfied: htmlmin==0.1.12 in c:\\users\\bunmi\\documents\\financial inclusion\\constellation\\lib\\site-packages (from ydata_profiling) (0.1.12)\n",
      "Requirement already satisfied: phik<0.13,>=0.11.1 in c:\\users\\bunmi\\documents\\financial inclusion\\constellation\\lib\\site-packages (from ydata_profiling) (0.12.4)\n",
      "Requirement already satisfied: requests<3,>=2.24.0 in c:\\users\\bunmi\\documents\\financial inclusion\\constellation\\lib\\site-packages (from ydata_profiling) (2.31.0)\n",
      "Requirement already satisfied: tqdm<5,>=4.48.2 in c:\\users\\bunmi\\documents\\financial inclusion\\constellation\\lib\\site-packages (from ydata_profiling) (4.66.4)\n",
      "Requirement already satisfied: seaborn<0.14,>=0.10.1 in c:\\users\\bunmi\\documents\\financial inclusion\\constellation\\lib\\site-packages (from ydata_profiling) (0.13.2)\n",
      "Requirement already satisfied: multimethod<2,>=1.4 in c:\\users\\bunmi\\documents\\financial inclusion\\constellation\\lib\\site-packages (from ydata_profiling) (1.11.2)\n",
      "Requirement already satisfied: statsmodels<1,>=0.13.2 in c:\\users\\bunmi\\documents\\financial inclusion\\constellation\\lib\\site-packages (from ydata_profiling) (0.14.2)\n",
      "Requirement already satisfied: typeguard<5,>=3 in c:\\users\\bunmi\\documents\\financial inclusion\\constellation\\lib\\site-packages (from ydata_profiling) (4.2.1)\n",
      "Requirement already satisfied: imagehash==4.3.1 in c:\\users\\bunmi\\documents\\financial inclusion\\constellation\\lib\\site-packages (from ydata_profiling) (4.3.1)\n",
      "Requirement already satisfied: wordcloud>=1.9.1 in c:\\users\\bunmi\\documents\\financial inclusion\\constellation\\lib\\site-packages (from ydata_profiling) (1.9.3)\n",
      "Requirement already satisfied: dacite>=1.8 in c:\\users\\bunmi\\documents\\financial inclusion\\constellation\\lib\\site-packages (from ydata_profiling) (1.8.1)\n",
      "Requirement already satisfied: numba<1,>=0.56.0 in c:\\users\\bunmi\\documents\\financial inclusion\\constellation\\lib\\site-packages (from ydata_profiling) (0.59.1)\n",
      "Requirement already satisfied: PyWavelets in c:\\users\\bunmi\\documents\\financial inclusion\\constellation\\lib\\site-packages (from imagehash==4.3.1->ydata_profiling) (1.6.0)\n",
      "Requirement already satisfied: pillow in c:\\users\\bunmi\\documents\\financial inclusion\\constellation\\lib\\site-packages (from imagehash==4.3.1->ydata_profiling) (10.3.0)\n",
      "Requirement already satisfied: MarkupSafe>=2.0 in c:\\users\\bunmi\\documents\\financial inclusion\\constellation\\lib\\site-packages (from jinja2<3.2,>=2.11.1->ydata_profiling) (2.1.5)\n",
      "Requirement already satisfied: contourpy>=1.0.1 in c:\\users\\bunmi\\documents\\financial inclusion\\constellation\\lib\\site-packages (from matplotlib<3.9,>=3.2->ydata_profiling) (1.2.1)\n",
      "Requirement already satisfied: cycler>=0.10 in c:\\users\\bunmi\\documents\\financial inclusion\\constellation\\lib\\site-packages (from matplotlib<3.9,>=3.2->ydata_profiling) (0.12.1)\n",
      "Requirement already satisfied: fonttools>=4.22.0 in c:\\users\\bunmi\\documents\\financial inclusion\\constellation\\lib\\site-packages (from matplotlib<3.9,>=3.2->ydata_profiling) (4.51.0)\n",
      "Requirement already satisfied: kiwisolver>=1.3.1 in c:\\users\\bunmi\\documents\\financial inclusion\\constellation\\lib\\site-packages (from matplotlib<3.9,>=3.2->ydata_profiling) (1.4.5)\n",
      "Requirement already satisfied: packaging>=20.0 in c:\\users\\bunmi\\documents\\financial inclusion\\constellation\\lib\\site-packages (from matplotlib<3.9,>=3.2->ydata_profiling) (24.0)\n",
      "Requirement already satisfied: pyparsing>=2.3.1 in c:\\users\\bunmi\\documents\\financial inclusion\\constellation\\lib\\site-packages (from matplotlib<3.9,>=3.2->ydata_profiling) (3.1.2)\n",
      "Requirement already satisfied: python-dateutil>=2.7 in c:\\users\\bunmi\\documents\\financial inclusion\\constellation\\lib\\site-packages (from matplotlib<3.9,>=3.2->ydata_profiling) (2.9.0.post0)\n",
      "Requirement already satisfied: llvmlite<0.43,>=0.42.0dev0 in c:\\users\\bunmi\\documents\\financial inclusion\\constellation\\lib\\site-packages (from numba<1,>=0.56.0->ydata_profiling) (0.42.0)\n",
      "Requirement already satisfied: pytz>=2020.1 in c:\\users\\bunmi\\documents\\financial inclusion\\constellation\\lib\\site-packages (from pandas!=1.4.0,<3,>1.1->ydata_profiling) (2024.1)\n",
      "Requirement already satisfied: tzdata>=2022.7 in c:\\users\\bunmi\\documents\\financial inclusion\\constellation\\lib\\site-packages (from pandas!=1.4.0,<3,>1.1->ydata_profiling) (2024.1)\n",
      "Requirement already satisfied: joblib>=0.14.1 in c:\\users\\bunmi\\documents\\financial inclusion\\constellation\\lib\\site-packages (from phik<0.13,>=0.11.1->ydata_profiling) (1.4.2)\n",
      "Requirement already satisfied: annotated-types>=0.4.0 in c:\\users\\bunmi\\documents\\financial inclusion\\constellation\\lib\\site-packages (from pydantic>=2->ydata_profiling) (0.6.0)\n",
      "Requirement already satisfied: pydantic-core==2.18.2 in c:\\users\\bunmi\\documents\\financial inclusion\\constellation\\lib\\site-packages (from pydantic>=2->ydata_profiling) (2.18.2)\n",
      "Requirement already satisfied: typing-extensions>=4.6.1 in c:\\users\\bunmi\\documents\\financial inclusion\\constellation\\lib\\site-packages (from pydantic>=2->ydata_profiling) (4.11.0)\n",
      "Requirement already satisfied: charset-normalizer<4,>=2 in c:\\users\\bunmi\\documents\\financial inclusion\\constellation\\lib\\site-packages (from requests<3,>=2.24.0->ydata_profiling) (3.3.2)\n",
      "Requirement already satisfied: idna<4,>=2.5 in c:\\users\\bunmi\\documents\\financial inclusion\\constellation\\lib\\site-packages (from requests<3,>=2.24.0->ydata_profiling) (3.7)\n",
      "Requirement already satisfied: urllib3<3,>=1.21.1 in c:\\users\\bunmi\\documents\\financial inclusion\\constellation\\lib\\site-packages (from requests<3,>=2.24.0->ydata_profiling) (2.2.1)\n",
      "Requirement already satisfied: certifi>=2017.4.17 in c:\\users\\bunmi\\documents\\financial inclusion\\constellation\\lib\\site-packages (from requests<3,>=2.24.0->ydata_profiling) (2024.2.2)\n",
      "Requirement already satisfied: patsy>=0.5.6 in c:\\users\\bunmi\\documents\\financial inclusion\\constellation\\lib\\site-packages (from statsmodels<1,>=0.13.2->ydata_profiling) (0.5.6)\n",
      "Requirement already satisfied: colorama in c:\\users\\bunmi\\documents\\financial inclusion\\constellation\\lib\\site-packages (from tqdm<5,>=4.48.2->ydata_profiling) (0.4.6)\n",
      "Requirement already satisfied: attrs>=19.3.0 in c:\\users\\bunmi\\documents\\financial inclusion\\constellation\\lib\\site-packages (from visions<0.7.7,>=0.7.5->visions[type_image_path]<0.7.7,>=0.7.5->ydata_profiling) (23.2.0)\n",
      "Requirement already satisfied: networkx>=2.4 in c:\\users\\bunmi\\documents\\financial inclusion\\constellation\\lib\\site-packages (from visions<0.7.7,>=0.7.5->visions[type_image_path]<0.7.7,>=0.7.5->ydata_profiling) (3.3)\n",
      "Requirement already satisfied: six in c:\\users\\bunmi\\documents\\financial inclusion\\constellation\\lib\\site-packages (from patsy>=0.5.6->statsmodels<1,>=0.13.2->ydata_profiling) (1.16.0)\n",
      "Note: you may need to restart the kernel to use updated packages.\n"
     ]
    },
    {
     "name": "stderr",
     "output_type": "stream",
     "text": [
      "c:\\Users\\Bunmi\\Documents\\Financial Inclusion\\constellation\\Lib\\site-packages\\tqdm\\auto.py:21: TqdmWarning: IProgress not found. Please update jupyter and ipywidgets. See https://ipywidgets.readthedocs.io/en/stable/user_install.html\n",
      "  from .autonotebook import tqdm as notebook_tqdm\n",
      "Summarize dataset:  75%|███████▌  | 15/20 [00:02<00:00, 11.20it/s, Calculate auto correlation]             c:\\Users\\Bunmi\\Documents\\Financial Inclusion\\constellation\\Lib\\site-packages\\ydata_profiling\\model\\correlations.py:66: UserWarning: There was an attempt to calculate the auto correlation, but this failed.\n",
      "To hide this warning, disable the calculation\n",
      "(using `df.profile_report(correlations={\"auto\": {\"calculate\": False}})`\n",
      "If this is problematic for your use case, please report this as an issue:\n",
      "https://github.com/ydataai/ydata-profiling/issues\n",
      "(include the error message: 'could not convert string to float: 'Yes'')\n",
      "  warnings.warn(\n",
      "Summarize dataset: 100%|██████████| 26/26 [00:04<00:00,  5.62it/s, Completed]                                   \n",
      "Generate report structure: 100%|██████████| 1/1 [00:06<00:00,  6.29s/it]\n",
      "Render HTML: 100%|██████████| 1/1 [00:04<00:00,  4.67s/it]\n",
      "Export report to file: 100%|██████████| 1/1 [00:00<00:00, 28.85it/s]\n"
     ]
    }
   ],
   "source": [
    "%pip install ydata_profiling\n",
    "import ydata_profiling\n",
    "\n",
    "profile = ydata_profiling.ProfileReport(data)\n",
    "profile.to_file(output_file=\"financialinclusiondata.html\")\n"
   ]
  },
  {
   "cell_type": "code",
   "execution_count": 6,
   "metadata": {},
   "outputs": [],
   "source": [
    "X = data.drop(columns=['uniqueid','bank_account', 'country','year'], axis=1)\n",
    "y = data.bank_account"
   ]
  },
  {
   "cell_type": "code",
   "execution_count": 7,
   "metadata": {},
   "outputs": [],
   "source": [
    "from sklearn.preprocessing import LabelEncoder\n",
    "\n",
    "object_columns = [\"location_type\", \"cellphone_access\", \"gender_of_respondent\", \n",
    "                  \"relationship_with_head\", \n",
    "                  \"marital_status\", \"education_level\", \"job_type\"]\n",
    "\n",
    "encoder = LabelEncoder()\n",
    "for i in object_columns:\n",
    "    X[i]= encoder.fit_transform(X[i])"
   ]
  },
  {
   "cell_type": "code",
   "execution_count": 8,
   "metadata": {},
   "outputs": [],
   "source": [
    "from sklearn.model_selection import train_test_split\n",
    "X_train, X_test, y_train, y_test = train_test_split(X, y, test_size=0.2, random_state=42) "
   ]
  },
  {
   "cell_type": "code",
   "execution_count": 10,
   "metadata": {},
   "outputs": [],
   "source": [
    "from sklearn.ensemble import RandomForestClassifier\n",
    "from sklearn.svm import SVC\n",
    "from sklearn.ensemble import VotingClassifier\n",
    "\n",
    "# Create the individual classifiers\n",
    "clf1 = RandomForestClassifier(n_estimators=100)\n",
    "clf2 = SVC(probability=True)\n",
    "\n",
    "# Create the voting classifier\n",
    "eclf = VotingClassifier(estimators=[('rf', clf1), ('svc', clf2)], voting='hard')\n",
    "\n",
    "# Fit the voting classifier on the data\n",
    "eclf.fit(X_train, y_train)\n",
    "\n",
    "# Make predictions on the test data\n",
    "y_pred = eclf.predict(X_test)"
   ]
  },
  {
   "cell_type": "code",
   "execution_count": 11,
   "metadata": {},
   "outputs": [
    {
     "data": {
      "text/plain": [
       "Index(['location_type', 'cellphone_access', 'household_size',\n",
       "       'age_of_respondent', 'gender_of_respondent', 'relationship_with_head',\n",
       "       'marital_status', 'education_level', 'job_type'],\n",
       "      dtype='object')"
      ]
     },
     "execution_count": 11,
     "metadata": {},
     "output_type": "execute_result"
    }
   ],
   "source": [
    "X.columns"
   ]
  },
  {
   "cell_type": "code",
   "execution_count": 13,
   "metadata": {},
   "outputs": [],
   "source": [
    "import pickle \n",
    "with open('model.pkl', 'wb') as file:  \n",
    "    pickle.dump(eclf, file)"
   ]
  }
 ],
 "metadata": {
  "kernelspec": {
   "display_name": "constellation",
   "language": "python",
   "name": "python3"
  },
  "language_info": {
   "codemirror_mode": {
    "name": "ipython",
    "version": 3
   },
   "file_extension": ".py",
   "mimetype": "text/x-python",
   "name": "python",
   "nbconvert_exporter": "python",
   "pygments_lexer": "ipython3",
   "version": "3.12.3"
  }
 },
 "nbformat": 4,
 "nbformat_minor": 2
}
